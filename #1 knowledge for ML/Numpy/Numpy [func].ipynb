{
 "cells": [
  {
   "cell_type": "markdown",
   "metadata": {},
   "source": [
    "## Numpy에서 사용하는 함수들에 대해 araboza"
   ]
  },
  {
   "cell_type": "markdown",
   "metadata": {},
   "source": [
    "### 🔎 하나의 Array에 적용되는 함수 "
   ]
  },
  {
   "cell_type": "code",
   "execution_count": 2,
   "metadata": {},
   "outputs": [],
   "source": [
    "import numpy as np"
   ]
  },
  {
   "cell_type": "code",
   "execution_count": 11,
   "metadata": {},
   "outputs": [
    {
     "data": {
      "text/plain": [
       "array([[ 0.62468528,  0.42992956, -2.16874814, -0.32378985,  1.02917228],\n",
       "       [ 1.28302762,  0.51961693,  1.16568353,  1.10789424,  0.90676251],\n",
       "       [-0.32206233,  0.43218862,  1.3190161 , -1.22794093,  1.36733667]])"
      ]
     },
     "execution_count": 11,
     "metadata": {},
     "output_type": "execute_result"
    }
   ],
   "source": [
    "arr1 = np.random.randn(3,5)\n",
    "arr1"
   ]
  },
  {
   "cell_type": "code",
   "execution_count": 9,
   "metadata": {},
   "outputs": [
    {
     "data": {
      "text/plain": [
       "array([[0.24144816, 1.92561053, 0.03413883, 0.7514323 , 0.18147978],\n",
       "       [0.77629816, 0.11221767, 0.36406914, 1.06450705, 0.33087536],\n",
       "       [0.09562886, 0.83156997, 2.28075356, 2.25099005, 1.05003497]])"
      ]
     },
     "execution_count": 9,
     "metadata": {},
     "output_type": "execute_result"
    }
   ],
   "source": [
    "# 각 성분의 절대값 계산하기\n",
    "np.abs(arr1)"
   ]
  },
  {
   "cell_type": "code",
   "execution_count": 12,
   "metadata": {},
   "outputs": [
    {
     "name": "stderr",
     "output_type": "stream",
     "text": [
      "C:\\Users\\82106\\Anaconda3\\lib\\site-packages\\ipykernel_launcher.py:2: RuntimeWarning: invalid value encountered in sqrt\n",
      "  \n"
     ]
    },
    {
     "data": {
      "text/plain": [
       "array([[0.79037034, 0.65569014,        nan,        nan, 1.01448129],\n",
       "       [1.13270809, 0.72084459, 1.07966825, 1.05256555, 0.95224078],\n",
       "       [       nan, 0.65741054, 1.14848426,        nan, 1.16933172]])"
      ]
     },
     "execution_count": 12,
     "metadata": {},
     "output_type": "execute_result"
    }
   ],
   "source": [
    "# 각 성분의 제곱근 계산하기 (array ** 0.5)\n",
    "np.sqrt(arr1)"
   ]
  },
  {
   "cell_type": "code",
   "execution_count": 13,
   "metadata": {},
   "outputs": [
    {
     "data": {
      "text/plain": [
       "array([[0.3902317 , 0.18483942, 4.70346849, 0.10483987, 1.05919558],\n",
       "       [1.64615988, 0.27000175, 1.35881809, 1.22742965, 0.82221824],\n",
       "       [0.10372414, 0.186787  , 1.73980347, 1.50783893, 1.86960957]])"
      ]
     },
     "execution_count": 13,
     "metadata": {},
     "output_type": "execute_result"
    }
   ],
   "source": [
    "# 각 성분의 제곱 계산하기\n",
    "np.square(arr1)"
   ]
  },
  {
   "cell_type": "code",
   "execution_count": 14,
   "metadata": {},
   "outputs": [
    {
     "data": {
      "text/plain": [
       "array([[1.86765807, 1.53714924, 0.11432064, 0.72340225, 2.79874829],\n",
       "       [3.60754549, 1.68138343, 3.20811498, 3.0279755 , 2.47629256],\n",
       "       [0.72465302, 1.54062568, 3.73974004, 0.29289505, 3.9248835 ]])"
      ]
     },
     "execution_count": 14,
     "metadata": {},
     "output_type": "execute_result"
    }
   ],
   "source": [
    "# 각 성분을 무리수 e의 지수로 삼은 값을 계산하기\n",
    "np.exp(arr1)"
   ]
  },
  {
   "cell_type": "code",
   "execution_count": 15,
   "metadata": {},
   "outputs": [
    {
     "name": "stderr",
     "output_type": "stream",
     "text": [
      "C:\\Users\\82106\\Anaconda3\\lib\\site-packages\\ipykernel_launcher.py:3: RuntimeWarning: invalid value encountered in log\n",
      "  This is separate from the ipykernel package so we can avoid doing imports until\n"
     ]
    },
    {
     "data": {
      "text/plain": [
       "array([[-0.47050731, -0.8441339 ,         nan,         nan,  0.02875487],\n",
       "       [ 0.24922261, -0.65466342,  0.15330764,  0.10246114, -0.09787471],\n",
       "       [        nan, -0.83889316,  0.27688608,         nan,  0.31286481]])"
      ]
     },
     "execution_count": 15,
     "metadata": {},
     "output_type": "execute_result"
    }
   ],
   "source": [
    "# 로그 계산하기\n",
    "# 자연로그\n",
    "np.log(arr1)"
   ]
  },
  {
   "cell_type": "code",
   "execution_count": 16,
   "metadata": {},
   "outputs": [
    {
     "name": "stderr",
     "output_type": "stream",
     "text": [
      "C:\\Users\\82106\\Anaconda3\\lib\\site-packages\\ipykernel_launcher.py:2: RuntimeWarning: invalid value encountered in log10\n",
      "  \n"
     ]
    },
    {
     "data": {
      "text/plain": [
       "array([[-0.20433873, -0.3666027 ,         nan,         nan,  0.01248808],\n",
       "       [ 0.10823601, -0.28431671,  0.06658066,  0.04449831, -0.04250645],\n",
       "       [        nan, -0.36432667,  0.1202501 ,         nan,  0.13587546]])"
      ]
     },
     "execution_count": 16,
     "metadata": {},
     "output_type": "execute_result"
    }
   ],
   "source": [
    "# 상용로그\n",
    "np.log10(arr1)"
   ]
  },
  {
   "cell_type": "code",
   "execution_count": 17,
   "metadata": {},
   "outputs": [
    {
     "name": "stderr",
     "output_type": "stream",
     "text": [
      "C:\\Users\\82106\\Anaconda3\\lib\\site-packages\\ipykernel_launcher.py:2: RuntimeWarning: invalid value encountered in log2\n",
      "  \n"
     ]
    },
    {
     "data": {
      "text/plain": [
       "array([[-0.67879856, -1.21782779,         nan,         nan,  0.0414845 ],\n",
       "       [ 0.35955223, -0.94447967,  0.22117617,  0.14782017, -0.14120336],\n",
       "       [        nan, -1.21026701,  0.39946218,         nan,  0.45136851]])"
      ]
     },
     "execution_count": 17,
     "metadata": {},
     "output_type": "execute_result"
    }
   ],
   "source": [
    "# 밑이 2인 로그\n",
    "np.log2(arr1)"
   ]
  },
  {
   "cell_type": "code",
   "execution_count": 18,
   "metadata": {},
   "outputs": [
    {
     "data": {
      "text/plain": [
       "array([[ 1.,  1., -1., -1.,  1.],\n",
       "       [ 1.,  1.,  1.,  1.,  1.],\n",
       "       [-1.,  1.,  1., -1.,  1.]])"
      ]
     },
     "execution_count": 18,
     "metadata": {},
     "output_type": "execute_result"
    }
   ],
   "source": [
    "# 각 성분의 부호 계산하기 (양수인 경우 1, 음수인 경우 -1, 0인 경우 0)\n",
    "np.sign(arr1)"
   ]
  },
  {
   "cell_type": "code",
   "execution_count": 19,
   "metadata": {},
   "outputs": [
    {
     "data": {
      "text/plain": [
       "array([[ 1.,  1., -2., -0.,  2.],\n",
       "       [ 2.,  1.,  2.,  2.,  1.],\n",
       "       [-0.,  1.,  2., -1.,  2.]])"
      ]
     },
     "execution_count": 19,
     "metadata": {},
     "output_type": "execute_result"
    }
   ],
   "source": [
    "# 각 성분의 소수 첫 번째 자리에서 올림한 값 계산\n",
    "np.ceil(arr1)"
   ]
  },
  {
   "cell_type": "code",
   "execution_count": 20,
   "metadata": {},
   "outputs": [
    {
     "data": {
      "text/plain": [
       "array([[ 0.,  0., -3., -1.,  1.],\n",
       "       [ 1.,  0.,  1.,  1.,  0.],\n",
       "       [-1.,  0.,  1., -2.,  1.]])"
      ]
     },
     "execution_count": 20,
     "metadata": {},
     "output_type": "execute_result"
    }
   ],
   "source": [
    "# 각 성분의 소수 첫 번째 자리에서 내림한 값 계산\n",
    "np.floor(arr1)"
   ]
  },
  {
   "cell_type": "code",
   "execution_count": 24,
   "metadata": {},
   "outputs": [
    {
     "name": "stderr",
     "output_type": "stream",
     "text": [
      "C:\\Users\\82106\\Anaconda3\\lib\\site-packages\\ipykernel_launcher.py:2: RuntimeWarning: invalid value encountered in log2\n",
      "  \n"
     ]
    },
    {
     "data": {
      "text/plain": [
       "array([[False, False,  True,  True, False],\n",
       "       [False, False, False, False, False],\n",
       "       [ True, False, False,  True, False]])"
      ]
     },
     "execution_count": 24,
     "metadata": {},
     "output_type": "execute_result"
    }
   ],
   "source": [
    "# 각 성분의 NaN 식별하기\n",
    "np.isnan(np.log2(arr1))"
   ]
  },
  {
   "cell_type": "code",
   "execution_count": 25,
   "metadata": {},
   "outputs": [
    {
     "data": {
      "text/plain": [
       "array([[False, False, False, False, False],\n",
       "       [False, False, False, False, False],\n",
       "       [False, False, False, False, False]])"
      ]
     },
     "execution_count": 25,
     "metadata": {},
     "output_type": "execute_result"
    }
   ],
   "source": [
    "# 각 성분의 무한대인 경우 식별하기\n",
    "np.isinf(arr1)"
   ]
  },
  {
   "cell_type": "code",
   "execution_count": 26,
   "metadata": {},
   "outputs": [
    {
     "data": {
      "text/plain": [
       "array([[ 0.81114722,  0.90899511, -0.56295085,  0.94803644,  0.51552827],\n",
       "       [ 0.28381339,  0.86800946,  0.39412243,  0.44654665,  0.61629854],\n",
       "       [ 0.94858466,  0.9080512 ,  0.24912845,  0.33617767,  0.20205883]])"
      ]
     },
     "execution_count": 26,
     "metadata": {},
     "output_type": "execute_result"
    }
   ],
   "source": [
    "# 삼각 함수\n",
    "np.cos(arr1)"
   ]
  },
  {
   "cell_type": "markdown",
   "metadata": {},
   "source": [
    "### 🔎 두 개의 Array에 적용되는 함수 "
   ]
  },
  {
   "cell_type": "code",
   "execution_count": 27,
   "metadata": {},
   "outputs": [
    {
     "data": {
      "text/plain": [
       "array([[ 0.62468528,  0.42992956, -2.16874814, -0.32378985,  1.02917228],\n",
       "       [ 1.28302762,  0.51961693,  1.16568353,  1.10789424,  0.90676251],\n",
       "       [-0.32206233,  0.43218862,  1.3190161 , -1.22794093,  1.36733667]])"
      ]
     },
     "execution_count": 27,
     "metadata": {},
     "output_type": "execute_result"
    }
   ],
   "source": [
    "arr1"
   ]
  },
  {
   "cell_type": "code",
   "execution_count": 31,
   "metadata": {},
   "outputs": [
    {
     "data": {
      "text/plain": [
       "array([[-1.04046562, -0.44234263,  1.64302474, -0.21095006,  0.08938431],\n",
       "       [ 1.55322193,  0.02922772,  0.86126364,  0.15805158, -0.79057816],\n",
       "       [-0.45363803, -0.20204082,  0.15250881,  2.88745894, -0.60867092]])"
      ]
     },
     "execution_count": 31,
     "metadata": {},
     "output_type": "execute_result"
    }
   ],
   "source": [
    "arr2 = np.random.randn(3,5)\n",
    "arr2"
   ]
  },
  {
   "cell_type": "code",
   "execution_count": 32,
   "metadata": {},
   "outputs": [
    {
     "data": {
      "text/plain": [
       "array([[-0.64996356, -0.19017617, -3.56330684,  0.06830349,  0.09199185],\n",
       "       [ 1.99282664,  0.01518722,  1.00396084,  0.17510444, -0.71686663],\n",
       "       [ 0.14609972, -0.08731974,  0.20116158, -3.54562902, -0.83225807]])"
      ]
     },
     "execution_count": 32,
     "metadata": {},
     "output_type": "execute_result"
    }
   ],
   "source": [
    "# 두 개의 array에 대해 동일한 위치의 성분끼리 연산 값 계산하기\n",
    "# 곱셈\n",
    "arr1 * arr2"
   ]
  },
  {
   "cell_type": "code",
   "execution_count": 33,
   "metadata": {},
   "outputs": [
    {
     "data": {
      "text/plain": [
       "array([[-0.64996356, -0.19017617, -3.56330684,  0.06830349,  0.09199185],\n",
       "       [ 1.99282664,  0.01518722,  1.00396084,  0.17510444, -0.71686663],\n",
       "       [ 0.14609972, -0.08731974,  0.20116158, -3.54562902, -0.83225807]])"
      ]
     },
     "execution_count": 33,
     "metadata": {},
     "output_type": "execute_result"
    }
   ],
   "source": [
    "np.multiply(arr1, arr2)"
   ]
  },
  {
   "cell_type": "markdown",
   "metadata": {},
   "source": [
    "`연산에 사용하는 함수들`\n",
    "- add\n",
    "- subtract\n",
    "- multiply\n",
    "- divide\n",
    "- miximum\n",
    "- minimum"
   ]
  },
  {
   "cell_type": "code",
   "execution_count": 37,
   "metadata": {},
   "outputs": [
    {
     "data": {
      "text/plain": [
       "array([[ 0.62468528,  0.42992956,  1.64302474, -0.21095006,  1.02917228],\n",
       "       [ 1.55322193,  0.51961693,  1.16568353,  1.10789424,  0.90676251],\n",
       "       [-0.32206233,  0.43218862,  1.3190161 ,  2.88745894,  1.36733667]])"
      ]
     },
     "execution_count": 37,
     "metadata": {},
     "output_type": "execute_result"
    }
   ],
   "source": [
    "np.maximum(arr1, arr2)"
   ]
  },
  {
   "cell_type": "markdown",
   "metadata": {},
   "source": [
    "### 🔎 통계 함수\n",
    "array의 합이나 평균을 구할 때,\n",
    "추가로 axis라는 인자에 대한 값을 지정하여 열 or 행의 합 또는 평균을 구할 수 있음"
   ]
  },
  {
   "cell_type": "code",
   "execution_count": 38,
   "metadata": {},
   "outputs": [
    {
     "data": {
      "text/plain": [
       "array([[ 0.62468528,  0.42992956, -2.16874814, -0.32378985,  1.02917228],\n",
       "       [ 1.28302762,  0.51961693,  1.16568353,  1.10789424,  0.90676251],\n",
       "       [-0.32206233,  0.43218862,  1.3190161 , -1.22794093,  1.36733667]])"
      ]
     },
     "execution_count": 38,
     "metadata": {},
     "output_type": "execute_result"
    }
   ],
   "source": [
    "arr1"
   ]
  },
  {
   "cell_type": "code",
   "execution_count": 39,
   "metadata": {},
   "outputs": [
    {
     "data": {
      "text/plain": [
       "6.14277208810671"
      ]
     },
     "execution_count": 39,
     "metadata": {},
     "output_type": "execute_result"
    }
   ],
   "source": [
    "# 전체 성분의 합을 구함\n",
    "np.sum(arr1)"
   ]
  },
  {
   "cell_type": "code",
   "execution_count": 45,
   "metadata": {},
   "outputs": [
    {
     "data": {
      "text/plain": [
       "array([ 1.58565057,  1.38173511,  0.31595149, -0.44383654,  3.30327145])"
      ]
     },
     "execution_count": 45,
     "metadata": {},
     "output_type": "execute_result"
    }
   ],
   "source": [
    "# 열 간의 합을 계산\n",
    "np.sum(arr1, axis=0)"
   ]
  },
  {
   "cell_type": "code",
   "execution_count": 62,
   "metadata": {},
   "outputs": [
    {
     "data": {
      "text/plain": [
       "array([-0.40875087,  4.98298483,  1.56853813])"
      ]
     },
     "execution_count": 62,
     "metadata": {},
     "output_type": "execute_result"
    }
   ],
   "source": [
    "# 행 간의 합을 계산\n",
    "np.sum(arr1, axis=1)"
   ]
  },
  {
   "cell_type": "code",
   "execution_count": 63,
   "metadata": {},
   "outputs": [
    {
     "data": {
      "text/plain": [
       "0.409518139207114"
      ]
     },
     "execution_count": 63,
     "metadata": {},
     "output_type": "execute_result"
    }
   ],
   "source": [
    "# 평균을 계산\n",
    "np.mean(arr1)"
   ]
  },
  {
   "cell_type": "code",
   "execution_count": 64,
   "metadata": {},
   "outputs": [
    {
     "data": {
      "text/plain": [
       "array([ 0.52855019,  0.46057837,  0.10531716, -0.14794551,  1.10109048])"
      ]
     },
     "execution_count": 64,
     "metadata": {},
     "output_type": "execute_result"
    }
   ],
   "source": [
    "# 열 간의 평균을 계산\n",
    "np.mean(arr1, axis=0)"
   ]
  },
  {
   "cell_type": "code",
   "execution_count": 65,
   "metadata": {},
   "outputs": [
    {
     "data": {
      "text/plain": [
       "array([-0.08175017,  0.99659697,  0.31370763])"
      ]
     },
     "execution_count": 65,
     "metadata": {},
     "output_type": "execute_result"
    }
   ],
   "source": [
    "# 행 간의 평균을 계산\n",
    "np.mean(arr1, axis=1)"
   ]
  },
  {
   "cell_type": "markdown",
   "metadata": {},
   "source": [
    "`전체 성분의 통계값 계산`\n",
    "\n",
    "|표준편차|분산|최소값|최대값|\n",
    "|---|---|---|---|\n",
    "|std|var|min|max|"
   ]
  },
  {
   "cell_type": "code",
   "execution_count": 66,
   "metadata": {},
   "outputs": [
    {
     "data": {
      "text/plain": [
       "0.9885811111033306"
      ]
     },
     "execution_count": 66,
     "metadata": {},
     "output_type": "execute_result"
    }
   ],
   "source": [
    "np.std(arr1)"
   ]
  },
  {
   "cell_type": "code",
   "execution_count": 67,
   "metadata": {},
   "outputs": [
    {
     "data": {
      "text/plain": [
       "2"
      ]
     },
     "execution_count": 67,
     "metadata": {},
     "output_type": "execute_result"
    }
   ],
   "source": [
    "# 전체 성분의 최소값, 최대값이 위치한 인덱스 반환(argmin, argmax)\n",
    "np.argmin(arr1)"
   ]
  },
  {
   "cell_type": "code",
   "execution_count": 68,
   "metadata": {},
   "outputs": [
    {
     "data": {
      "text/plain": [
       "array([2, 0, 0, 2, 1], dtype=int64)"
      ]
     },
     "execution_count": 68,
     "metadata": {},
     "output_type": "execute_result"
    }
   ],
   "source": [
    "# 열 기준\n",
    "np.argmin(arr1, axis=0)"
   ]
  },
  {
   "cell_type": "code",
   "execution_count": 69,
   "metadata": {},
   "outputs": [
    {
     "data": {
      "text/plain": [
       "array([2, 1, 3], dtype=int64)"
      ]
     },
     "execution_count": 69,
     "metadata": {},
     "output_type": "execute_result"
    }
   ],
   "source": [
    "# 행 기준\n",
    "np.argmin(arr1, axis=1)"
   ]
  },
  {
   "cell_type": "code",
   "execution_count": 55,
   "metadata": {},
   "outputs": [
    {
     "data": {
      "text/plain": [
       "array([ 0.62468528,  1.05461484, -1.1141333 , -1.43792315, -0.40875087,\n",
       "        0.87427675,  1.39389368,  2.55957721,  3.66747145,  4.57423395,\n",
       "        4.25217163,  4.68436025,  6.00337635,  4.77543542,  6.14277209])"
      ]
     },
     "execution_count": 55,
     "metadata": {},
     "output_type": "execute_result"
    }
   ],
   "source": [
    "# 맨 처음 ~ 각 성분까지의 누적 합 또는 누적 곱 (cumsum, cumprod)\n",
    "np.cumsum(arr1)"
   ]
  },
  {
   "cell_type": "code",
   "execution_count": 70,
   "metadata": {},
   "outputs": [
    {
     "data": {
      "text/plain": [
       "array([[ 0.62468528,  0.42992956, -2.16874814, -0.32378985,  1.02917228],\n",
       "       [ 1.9077129 ,  0.94954648, -1.00306461,  0.7841044 ,  1.93593478],\n",
       "       [ 1.58565057,  1.38173511,  0.31595149, -0.44383654,  3.30327145]])"
      ]
     },
     "execution_count": 70,
     "metadata": {},
     "output_type": "execute_result"
    }
   ],
   "source": [
    "# 열 기준\n",
    "np.cumsum(arr1, axis=0)"
   ]
  },
  {
   "cell_type": "code",
   "execution_count": 73,
   "metadata": {},
   "outputs": [
    {
     "data": {
      "text/plain": [
       "array([[ 0.62468528,  1.05461484, -1.1141333 , -1.43792315, -0.40875087],\n",
       "       [ 1.28302762,  1.80264455,  2.96832808,  4.07622232,  4.98298483],\n",
       "       [-0.32206233,  0.11012629,  1.42914239,  0.20120146,  1.56853813]])"
      ]
     },
     "execution_count": 73,
     "metadata": {},
     "output_type": "execute_result"
    }
   ],
   "source": [
    "# 행 기준\n",
    "np.cumsum(arr1, axis=1)"
   ]
  },
  {
   "cell_type": "markdown",
   "metadata": {},
   "source": [
    "### 🔎 기타 함수"
   ]
  },
  {
   "cell_type": "code",
   "execution_count": 74,
   "metadata": {},
   "outputs": [
    {
     "data": {
      "text/plain": [
       "array([[ 0.62468528,  0.42992956, -2.16874814, -0.32378985,  1.02917228],\n",
       "       [ 1.28302762,  0.51961693,  1.16568353,  1.10789424,  0.90676251],\n",
       "       [-0.32206233,  0.43218862,  1.3190161 , -1.22794093,  1.36733667]])"
      ]
     },
     "execution_count": 74,
     "metadata": {},
     "output_type": "execute_result"
    }
   ],
   "source": [
    "arr1"
   ]
  },
  {
   "cell_type": "code",
   "execution_count": 79,
   "metadata": {},
   "outputs": [
    {
     "data": {
      "text/plain": [
       "array([[-2.16874814, -0.32378985,  0.42992956,  0.62468528,  1.02917228],\n",
       "       [ 0.51961693,  0.90676251,  1.10789424,  1.16568353,  1.28302762],\n",
       "       [-1.22794093, -0.32206233,  0.43218862,  1.3190161 ,  1.36733667]])"
      ]
     },
     "execution_count": 79,
     "metadata": {},
     "output_type": "execute_result"
    }
   ],
   "source": [
    "# 오름차순 정렬\n",
    "# default로 행 기준으로 되네!\n",
    "np.sort(arr1)"
   ]
  },
  {
   "cell_type": "code",
   "execution_count": 80,
   "metadata": {},
   "outputs": [
    {
     "data": {
      "text/plain": [
       "array([[-1.22794093, -0.32206233,  0.43218862,  1.3190161 ,  1.36733667],\n",
       "       [ 0.51961693,  0.90676251,  1.10789424,  1.16568353,  1.28302762],\n",
       "       [-2.16874814, -0.32378985,  0.42992956,  0.62468528,  1.02917228]])"
      ]
     },
     "execution_count": 80,
     "metadata": {},
     "output_type": "execute_result"
    }
   ],
   "source": [
    "# 내림차순 정렬\n",
    "np.sort(arr1)[::-1] # <- 그냥 역순 슬라이싱"
   ]
  },
  {
   "cell_type": "code",
   "execution_count": 81,
   "metadata": {},
   "outputs": [
    {
     "data": {
      "text/plain": [
       "array([[-0.32206233,  0.42992956, -2.16874814, -1.22794093,  0.90676251],\n",
       "       [ 0.62468528,  0.43218862,  1.16568353, -0.32378985,  1.02917228],\n",
       "       [ 1.28302762,  0.51961693,  1.3190161 ,  1.10789424,  1.36733667]])"
      ]
     },
     "execution_count": 81,
     "metadata": {},
     "output_type": "execute_result"
    }
   ],
   "source": [
    "# 열 방향으로 오름차순 정렬\n",
    "np.sort(arr1, axis=0)"
   ]
  },
  {
   "cell_type": "code",
   "execution_count": 82,
   "metadata": {},
   "outputs": [],
   "source": [
    "# 후하후하 끝끝"
   ]
  },
  {
   "cell_type": "code",
   "execution_count": null,
   "metadata": {},
   "outputs": [],
   "source": []
  }
 ],
 "metadata": {
  "kernelspec": {
   "display_name": "Python 3",
   "language": "python",
   "name": "python3"
  },
  "language_info": {
   "codemirror_mode": {
    "name": "ipython",
    "version": 3
   },
   "file_extension": ".py",
   "mimetype": "text/x-python",
   "name": "python",
   "nbconvert_exporter": "python",
   "pygments_lexer": "ipython3",
   "version": "3.7.3"
  }
 },
 "nbformat": 4,
 "nbformat_minor": 2
}
