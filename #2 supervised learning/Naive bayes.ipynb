{
 "cells": [
  {
   "cell_type": "markdown",
   "metadata": {},
   "source": [
    "## 나이브 베이즈 분류기\n",
    "나이브 베이즈 분류기는 선형 모델과 매우 유사\n",
    "\n",
    "LogisticRegression이나 LinearSVC 같은 선형 분류기보다 훈련 속도가 빠르지만 일반화 성능이 뒤짐.\n",
    "\n",
    "- 각 특성을 개별로 취급해 파라미터를 학습하고 각 특성에서 클래스별 통계를 단순하게 취합\n",
    "\n",
    "##### 종류\n",
    "1. GaussianNB: 연속적인 어떤 데이터에도 적용 가능\n",
    "2. BernoulliNB: 이진 데이터\n",
    "3. MuiltinomialNB: 카운트 데이터(특성이 어떤 것을 헤아린 정수 카운트로, ex) 문장에 나타난 단어의 횟수)\n",
    "\n",
    "1,2번은 보통 텍스트 데이터를 분류할 때 사용"
   ]
  },
  {
   "cell_type": "code",
   "execution_count": 5,
   "metadata": {},
   "outputs": [],
   "source": [
    "# BernoulliNB는 각 클래스의 특성 중 0이 아닌 것이 몇 개인지 셈\n",
    "import numpy as np\n",
    "X = np.array([[0,1,0,1],\n",
    "              [1,1,0,1],\n",
    "              [0,0,0,0],\n",
    "              [1,0,0,1]])\n",
    "y = np.array([0,1,0,1])"
   ]
  },
  {
   "cell_type": "code",
   "execution_count": 6,
   "metadata": {},
   "outputs": [
    {
     "data": {
      "text/plain": [
       "{0: array([0, 1, 0, 1]), 1: array([2, 1, 0, 2])}"
      ]
     },
     "execution_count": 6,
     "metadata": {},
     "output_type": "execute_result"
    }
   ],
   "source": [
    "counts = {}\n",
    "for label in np.unique(y):\n",
    "    counts[label] = X[y==label].sum(axis=0)\n",
    "counts"
   ]
  },
  {
   "cell_type": "code",
   "execution_count": 7,
   "metadata": {},
   "outputs": [
    {
     "name": "stdout",
     "output_type": "stream",
     "text": [
      "[master fcbdc3a] Naive bayes\n",
      " 2 files changed, 122 insertions(+), 3 deletions(-)\n",
      " create mode 100644 #2 supervised learning/Naive bayes.ipynb\n"
     ]
    },
    {
     "name": "stderr",
     "output_type": "stream",
     "text": [
      "To https://github.com/Tedhoon/scikit-learn.git\n",
      "   a9a6e3b..fcbdc3a  master -> master\n"
     ]
    }
   ],
   "source": [
    "!git add . \n",
    "!git commit -m \"Naive bayes\"\n",
    "!git push origin master"
   ]
  },
  {
   "cell_type": "code",
   "execution_count": null,
   "metadata": {},
   "outputs": [],
   "source": []
  }
 ],
 "metadata": {
  "kernelspec": {
   "display_name": "Python 3",
   "language": "python",
   "name": "python3"
  },
  "language_info": {
   "codemirror_mode": {
    "name": "ipython",
    "version": 3
   },
   "file_extension": ".py",
   "mimetype": "text/x-python",
   "name": "python",
   "nbconvert_exporter": "python",
   "pygments_lexer": "ipython3",
   "version": "3.7.3"
  }
 },
 "nbformat": 4,
 "nbformat_minor": 2
}
